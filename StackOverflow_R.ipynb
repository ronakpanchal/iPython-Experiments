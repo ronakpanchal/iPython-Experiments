{
 "cells": [
  {
   "cell_type": "code",
   "execution_count": 88,
   "metadata": {
    "collapsed": true
   },
   "outputs": [],
   "source": [
    "import pandas as pd\n",
    "import sys\n",
    "import re"
   ]
  },
  {
   "cell_type": "code",
   "execution_count": 89,
   "metadata": {
    "collapsed": false
   },
   "outputs": [
    {
     "name": "stdout",
     "output_type": "stream",
     "text": [
      "default encoding  utf-8\n",
      "0             How to access the last value in a vector?\n",
      "1     Worse sin: side effects or passing massive obj...\n",
      "2                  Explain the quantile() function in R\n",
      "3                    How to test for the EOF flag in R?\n",
      "4     Is there an R package for learning a Dirichlet...\n",
      "5                           Optimization packages for R\n",
      "6                            Thinking in Vectors with R\n",
      "7         Vectorize my thinking: Vector Operations in R\n",
      "8                             Is R a compiled language?\n",
      "9     Converting a localized date of the form 12-okt...\n",
      "10                                  Filtering data in R\n",
      "11       Operating with time intervals like 08:00-08:15\n",
      "12    What's the easiest way to install 100s of file...\n",
      "13                   csv file with multiple time-series\n",
      "14    Does R have quote-like operators like Perl's q...\n",
      "15    Writing a GUI for the BRCAPRO Cancer Gene Risk...\n",
      "16                         Sort the X axis in a barplot\n",
      "17     what is the best practice of handling time in R?\n",
      "18    What is the best way to avoid passing a data f...\n",
      "19                              What is the Y function?\n",
      "20             How can I remove an element from a list?\n",
      "21                    Cumulative Plot with Given X-Axis\n",
      "22      Column Stores: Comparing Column Based Databases\n",
      "23    How expensive is it to compute the eigenvalues...\n",
      "24    How do I color edges or draw rects correctly i...\n",
      "25                 R Random Forests Variable Importance\n",
      "26                     Plots without titles/labels in R\n",
      "27    Finding row index containing maximum value usi...\n",
      "28                      Calculating moving average in R\n",
      "29    Suppressing \"null device\" output with R in bat...\n",
      "                            ...                        \n",
      "70    How to increase the number of columns using R ...\n",
      "71    How to make execution pause, sleep, wait for X...\n",
      "72    Portable use of dyn.load to call a C function ...\n",
      "73    Does column exist and how to rearrange columns...\n",
      "74                              R object identification\n",
      "75    Determining if a matrix is diagonalizable in t...\n",
      "76                       Goodness of fit functions in R\n",
      "77    unexpected agrep() results related to max.dist...\n",
      "78    Getting windows to start R in batch mode using...\n",
      "79                   Hierarchical Bayes for R or Python\n",
      "80         Drop factor levels in a subsetted data frame\n",
      "81        Loading data from Excel file into R or Octave\n",
      "82    sql command for reading a particular sheet, co...\n",
      "83        How to connect to R with Java (using Eclipse)\n",
      "84                             Visualizing Data in Java\n",
      "85           Using function arguments in update.formula\n",
      "86       Step-by-Step How-to on Mediation Analysis in R\n",
      "87    Hooking R from within Excel - DCOM? R add in f...\n",
      "88                       Multiline Comment Workarounds?\n",
      "89                               How to set alpha in R?\n",
      "90                                Global variables in R\n",
      "91    How do you implement Velicer's MAP criterion in R\n",
      "92    Should \"while loops\" be preferred to \"for loop...\n",
      "93                    Overall Title for Plotting Window\n",
      "94                     Histogram with Logarithmic Scale\n",
      "95            Applying pnorm to columns of a data frame\n",
      "96                      Side-by-side plots with ggplot2\n",
      "97    How to replace NA (missing values) in a data f...\n",
      "98    Plot time data in R to various resolutions (to...\n",
      "99    How to do median splits within factor levels i...\n",
      "Name: Title, dtype: object\n"
     ]
    }
   ],
   "source": [
    "print('default encoding ', sys.getdefaultencoding())\n",
    "df=pd.read_csv('./rquestions/Tags.csv')\n",
    "# print('Columns in given data set are', df.dtypes)\n",
    "df['Tag']\n",
    "# df.iloc[:10]['Tag']\n",
    "df2=pd.read_csv('./rquestions/Questions.csv', encoding = \"ISO-8859-1\")\n",
    "questions=list(df2.iloc[:100]['Body'])\n",
    "map(str.strip('<p>'), questions)\n",
    "# print(questions[1])\n",
    "# print(df2.iloc[:5])\n",
    "print(df2.iloc[:100]['Title'])\n",
    "# print(re.sub('<[^<]+?>', '', questions[1]))\n"
   ]
  }
 ],
 "metadata": {
  "kernelspec": {
   "display_name": "Python 3",
   "language": "python",
   "name": "python3"
  },
  "language_info": {
   "codemirror_mode": {
    "name": "ipython",
    "version": 3
   },
   "file_extension": ".py",
   "mimetype": "text/x-python",
   "name": "python",
   "nbconvert_exporter": "python",
   "pygments_lexer": "ipython3",
   "version": "3.5.1"
  }
 },
 "nbformat": 4,
 "nbformat_minor": 0
}
